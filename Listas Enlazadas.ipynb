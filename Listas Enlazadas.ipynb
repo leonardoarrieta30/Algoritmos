{
  "nbformat": 4,
  "nbformat_minor": 0,
  "metadata": {
    "colab": {
      "name": "Lista enlazada_2-2022-02.ipynb",
      "provenance": [],
      "authorship_tag": "ABX9TyO/rVx/8quNwQwBgqoJfLqJ",
      "include_colab_link": true
    },
    "kernelspec": {
      "name": "python3",
      "display_name": "Python 3"
    },
    "language_info": {
      "name": "python"
    }
  },
  "cells": [
    {
      "cell_type": "markdown",
      "metadata": {
        "id": "view-in-github",
        "colab_type": "text"
      },
      "source": [
        "<a href=\"https://colab.research.google.com/github/leonardoarrieta30/Algoritmos/blob/main/Listas%20Enlazadas.ipynb\" target=\"_parent\"><img src=\"https://colab.research.google.com/assets/colab-badge.svg\" alt=\"Open In Colab\"/></a>"
      ]
    },
    {
      "cell_type": "code",
      "execution_count": 13,
      "metadata": {
        "colab": {
          "base_uri": "https://localhost:8080/"
        },
        "id": "7QDlmnRbkAUW",
        "outputId": "133b6596-421c-404a-e35f-9c1bd68c0981"
      },
      "outputs": [
        {
          "output_type": "stream",
          "name": "stdout",
          "text": [
            "Overwriting xd.cpp\n"
          ]
        }
      ],
      "source": [
        "%%writefile xd.cpp\n",
        "#include<functional>\n",
        "#include<iostream>\n",
        "#include<string>\n",
        "using namespace std;\n",
        "\n",
        "//inserccion de la lista enlazada es O(1)\n",
        "\n",
        "template<typename Tipo>\n",
        "struct Nodo\n",
        "{\n",
        "\t//estoy llamando a la misma funcion asi que se llama con<>\n",
        "\tTipo dato;//elemento\n",
        "\tNodo<Tipo>* siguiente; //puntero siguiente\n",
        "\tNodo(Tipo e) {\n",
        "\t\tdato = e;\n",
        "\t\tsiguiente = nullptr;\n",
        "\t}\n",
        "\n",
        "};\n",
        "template<class Tipo>\n",
        "class ListaEnlazada\n",
        "{\n",
        "private:\n",
        "\tNodo<Tipo>* inicio;\n",
        "\tNodo<Tipo>* fin;\n",
        "public:\n",
        "\tListaEnlazada() {\n",
        "\t\tfin = inicio = nullptr;\n",
        "\t}\n",
        "\tvoid agregar(Tipo e) {  //tiempo computacional de O(n) lineal\n",
        "\t\tNodo<Tipo>* nd = new Nodo<Tipo>(e);\n",
        "\t\tif (inicio == nullptr)\n",
        "\t\t{\n",
        "\t\t\tinicio = nd;\n",
        "\t\t}\n",
        "\t\telse\n",
        "\t\t{\n",
        "\t\t\tNodo<Tipo>* aux = inicio;\n",
        "\t\t\twhile (aux->siguiente != nullptr) {\n",
        "\t\t\t\taux = aux->siguiente;\n",
        "\t\t\t}\n",
        "\t\t\taux->siguiente = nd;\n",
        "\t\t}\n",
        "\t}\n",
        "\tvoid agregar_final(Tipo e) { //timpo computacional de O(1) constante\n",
        "\t\tNodo<Tipo>* nd = new Nodo<Tipo>(e);\n",
        "\t\tif (inicio == nullptr) {\n",
        "\t\t\tfin = inicio = nd;\n",
        "\t\t}\n",
        "\t\telse {\n",
        "\t\t\tfin->siguiente = nd;\n",
        "\t\t\tfin = nd;\n",
        "\t\t}\n",
        "\t}\n",
        "\tvoid buscar(Tipo e) {\n",
        "\t\tNodo<Tipo>* aux = inicio;\n",
        "\n",
        "\t\twhile (aux != nullptr) {\n",
        "\t\t\tif (aux->dato == e) {\n",
        "\t\t\t\tcout << \"Se encontro el valor perraso es el \" << e;\n",
        "\t\t\t\tbreak;\n",
        "\t\t\t}\n",
        "\t\t\taux = aux->siguiente;\n",
        "\t\t}\n",
        "\n",
        "\t}\n",
        "\n",
        "\n",
        "\tvoid mostrar(function<void(Tipo)> fMostrar) {\n",
        "\t\tNodo<Tipo>* aux = inicio;\n",
        "\t\twhile (aux->siguiente != nullptr)\n",
        "\t\t{\n",
        "\t\t\t//cout << aux->dato << \"->\";\n",
        "\t\t\tfMostrar(aux->dato);\n",
        "\t\t\taux = aux->siguiente;\n",
        "\t\t}\n",
        "\t\tfMostrar(aux->dato);\n",
        "\t}\n",
        "};\n",
        "\n",
        "class Monitores {\n",
        "\tstring nombre;\n",
        "\tfloat precio;\n",
        "public:\n",
        "\tMonitores(string nombre, float precio) {\n",
        "\t\tthis->nombre = nombre;\n",
        "\t\tthis->precio = precio;\n",
        "\t}\n",
        "\tstring toString() {\n",
        "\t\treturn nombre+\" \" + to_string(precio);\n",
        "\t}\n",
        "\n",
        "};\n",
        "\n",
        "void ejemplo1() {\n",
        "\tListaEnlazada<int> le;\n",
        "\tle.agregar(10);\n",
        "\tle.agregar(20);\n",
        "\tle.agregar(30);\n",
        "\tle.agregar(40);\n",
        "\tle.agregar(50);\n",
        "\tle.mostrar([](int x) { cout << x<<endl; });\n",
        "\tle.buscar(40);\n",
        "\n",
        "}\n",
        "//void ejemplo2() {\n",
        "//\t\n",
        "//\tListaEnlazada<string> les;\n",
        "//\tles.agregar(\"leonardo\");\n",
        "//\tles.agregar(\"Gabriel\");\n",
        "//\tles.agregar(\"Diego\");\n",
        "//\tles.agregar(\"Jenny\");\n",
        "//\tles.agregar(\"camila\");\n",
        "//\tles.mostrar([]() { ;});\n",
        "//\n",
        "//}\n",
        "void ejemplo3() {\n",
        "\n",
        "\tListaEnlazada<Monitores*> lsdm;\n",
        "\tlsdm.agregar(new Monitores(\"LG\", 1800.60));\n",
        "\tlsdm.agregar(new Monitores(\"Samsung\", 1660.84));\n",
        "\tlsdm.agregar(new Monitores(\"Huawei\", 2700.56));\n",
        "\tlsdm.mostrar([](Monitores* M) {cout << M->toString() << endl; });\n",
        "}\n",
        "\n",
        "int main() {\n",
        "\t\n",
        "\tejemplo3();\n",
        "\n",
        "\tcout << endl;\n",
        "\n",
        "\n",
        "\n",
        "\tsystem(\"pause\");\n",
        "\treturn 0;\n",
        "}"
      ]
    },
    {
      "cell_type": "code",
      "source": [
        "!g++ xd.cpp && ./a.out"
      ],
      "metadata": {
        "colab": {
          "base_uri": "https://localhost:8080/"
        },
        "id": "0DxVZHQjxMiW",
        "outputId": "9aec9ad4-b775-4c71-fc8f-468b40a0c913"
      },
      "execution_count": 14,
      "outputs": [
        {
          "output_type": "stream",
          "name": "stdout",
          "text": [
            "10\n",
            "20\n",
            "30\n",
            "40\n",
            "50\n",
            "Se encontro el valor perraso es el 40"
          ]
        }
      ]
    },
    {
      "cell_type": "code",
      "source": [
        ""
      ],
      "metadata": {
        "id": "7H2OXv8t1b9e"
      },
      "execution_count": null,
      "outputs": []
    }
  ]
}