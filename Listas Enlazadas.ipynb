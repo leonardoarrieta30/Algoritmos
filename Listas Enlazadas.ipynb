{
  "nbformat": 4,
  "nbformat_minor": 0,
  "metadata": {
    "colab": {
      "name": "Untitled9.ipynb",
      "provenance": [],
      "collapsed_sections": [],
      "authorship_tag": "ABX9TyPldEH2mzwCeLq4Iw0aOIBS",
      "include_colab_link": true
    },
    "kernelspec": {
      "name": "python3",
      "display_name": "Python 3"
    },
    "language_info": {
      "name": "python"
    }
  },
  "cells": [
    {
      "cell_type": "markdown",
      "metadata": {
        "id": "view-in-github",
        "colab_type": "text"
      },
      "source": [
        "<a href=\"https://colab.research.google.com/github/leonardoarrieta30/Algoritmos/blob/main/Listas%20Enlazadas.ipynb\" target=\"_parent\"><img src=\"https://colab.research.google.com/assets/colab-badge.svg\" alt=\"Open In Colab\"/></a>"
      ]
    },
    {
      "cell_type": "code",
      "execution_count": 3,
      "metadata": {
        "colab": {
          "base_uri": "https://localhost:8080/"
        },
        "id": "NYcpIO68HUiA",
        "outputId": "04c762d5-08f4-4f10-b1e3-438d30d644e1"
      },
      "outputs": [
        {
          "output_type": "stream",
          "name": "stdout",
          "text": [
            "Overwriting xd.cpp\n"
          ]
        }
      ],
      "source": [
        "\t%%writefile xd.cpp\n",
        "\t#include<iostream>\n",
        "\tusing namespace std;\n",
        "\n",
        "\t//typedef unsigned int ad;\n",
        "\t//inserccion de la lista enlazada es O(1)\n",
        "\n",
        "\tstruct Nodo\n",
        "\t{\n",
        "\t\tint dato;//elemento\n",
        "\t\tNodo* siguiente; //puntero siguiente\n",
        "\t\tNodo(int dato, Nodo* siguiente=nullptr){\n",
        "\t\t\tthis->dato = dato;\n",
        "\t\t}\n",
        "\n",
        "\t};\n",
        "\tclass ListaEnlazada\n",
        "\t{\n",
        "\tprivate:\n",
        "\t\tNodo* inicio;\n",
        "\tpublic:\n",
        "\t\tListaEnlazada(){\n",
        "\t\t\tinicio = nullptr;\n",
        "\t\t}\n",
        "\t\tvoid agregar(int e) { \n",
        "\t\t\tNodo* nd = new Nodo(e);\n",
        "\t\t\tif (inicio==nullptr)\n",
        "\t\t\t{\n",
        "\t\t\t\tinicio = nd;\n",
        "\t\t\t}\n",
        "\t\t\telse\n",
        "\t\t\t{\n",
        "\t\t\t\tNodo* aux = inicio;\n",
        "\t\t\t\twhile (aux->siguiente != nullptr){\n",
        "\t\t\t\t\taux = aux->siguiente;\n",
        "\t\t\t\t}\n",
        "\t\t\t\taux->siguiente = nd;\n",
        "\t\t\t}\n",
        "\t\t}\n",
        "\t\tvoid mostrar() {\n",
        "\t\t\tNodo* aux = inicio;\n",
        "\t\t\twhile (aux!=nullptr)\n",
        "\t\t\t{\n",
        "\t\t\t\tcout << aux->dato<<\"->\";\n",
        "\t\t\t\taux = aux->siguiente;\n",
        "\t\t\t}\n",
        "\t\t}\n",
        "\t};\n",
        "\n",
        "\n",
        "\tint main() {\n",
        "\t\tListaEnlazada le;\n",
        "\t\tle.agregar(10);\n",
        "\t\tle.agregar(20);\n",
        "\t\tle.agregar(30);\n",
        "\t\tle.agregar(40);\n",
        "\t\tle.agregar(50);\n",
        "\t\tle.mostrar();\n",
        "\t\t\n",
        "\n",
        "\n",
        "\t\t////creando nodos\n",
        "\t\t//Nodo* n1 = new Nodo(20);\n",
        "\t\t//Nodo* n2 = new Nodo(30);\n",
        "\t\t//Nodo* n3 = new Nodo(50);\n",
        "\t\t//Nodo* n4 = new Nodo(40);\n",
        "\t\t//Nodo* n5 = new Nodo(80);\n",
        "\n",
        "\t\t////unir nodos con puntero siguiente\n",
        "\t\t//n1->siguiente = n2;\n",
        "\t\t//n2->siguiente = n3;\n",
        "\t\t//n3->siguiente = n4;\n",
        "\t\t//n4->siguiente = n5;\n",
        "\n",
        "\t\t//Nodo* aux = n1;\n",
        "\t\t//while (aux!=nullptr)\n",
        "\t\t//{\n",
        "\t\t//\tcout << aux->dato<<\"->\";\n",
        "\t\t//\taux = aux->siguiente;\n",
        "\t\t//}\n",
        "\n",
        "\n",
        "\t\treturn 0;\n",
        "\t}"
      ]
    },
    {
      "cell_type": "code",
      "source": [
        "!g++ xd.cpp && ./a.out"
      ],
      "metadata": {
        "colab": {
          "base_uri": "https://localhost:8080/"
        },
        "id": "HGJ7LW_AHhkn",
        "outputId": "4b83934b-c81d-4eff-e84d-25a357c2adeb"
      },
      "execution_count": 4,
      "outputs": [
        {
          "output_type": "stream",
          "name": "stdout",
          "text": [
            "10->20->30->40->50->"
          ]
        }
      ]
    },
    {
      "cell_type": "code",
      "source": [
        " "
      ],
      "metadata": {
        "id": "PNqIbXZYHmnR"
      },
      "execution_count": null,
      "outputs": []
    }
  ]
}