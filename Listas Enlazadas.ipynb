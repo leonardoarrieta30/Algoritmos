{
  "nbformat": 4,
  "nbformat_minor": 0,
  "metadata": {
    "colab": {
      "name": "Untitled9.ipynb",
      "provenance": [],
      "collapsed_sections": [],
      "authorship_tag": "ABX9TyMpEm5bbtrOa3ybIw2x0/kx",
      "include_colab_link": true
    },
    "kernelspec": {
      "name": "python3",
      "display_name": "Python 3"
    },
    "language_info": {
      "name": "python"
    }
  },
  "cells": [
    {
      "cell_type": "markdown",
      "metadata": {
        "id": "view-in-github",
        "colab_type": "text"
      },
      "source": [
        "<a href=\"https://colab.research.google.com/github/leonardoarrieta30/Algoritmos/blob/main/Listas%20Enlazadas.ipynb\" target=\"_parent\"><img src=\"https://colab.research.google.com/assets/colab-badge.svg\" alt=\"Open In Colab\"/></a>"
      ]
    },
    {
      "cell_type": "code",
      "execution_count": 25,
      "metadata": {
        "colab": {
          "base_uri": "https://localhost:8080/"
        },
        "id": "NYcpIO68HUiA",
        "outputId": "3d6d5d36-db02-4b84-e9fb-8f8ff1532bea"
      },
      "outputs": [
        {
          "output_type": "stream",
          "name": "stdout",
          "text": [
            "Overwriting xd.cpp\n"
          ]
        }
      ],
      "source": [
        "\t%%writefile xd.cpp\n",
        "\t#include<iostream>\n",
        "\tusing namespace std;\n",
        "\n",
        "\t//inserccion de la lista enlazada es O(1)\n",
        "\n",
        "template<typename Tipo>\n",
        "\tstruct Nodo\n",
        "\t{\n",
        "\t\t//estoy llamando a la misma funcion asi que se llama con<>\n",
        "\t\tTipo dato;//elemento\n",
        "\t\tNodo<Tipo>* siguiente; //puntero siguiente\n",
        "\t\tNodo(Tipo dato, Nodo<Tipo>* siguiente=nullptr){\n",
        "\t\t\tthis->dato = dato;\n",
        "\t\t}\n",
        "\n",
        "\t};\n",
        "\ttemplate<class TIPO>\n",
        "\tclass ListaEnlazada\n",
        "\t{\n",
        "\tprivate:\n",
        "\t\tNodo<TIPO>* inicio;\n",
        "\tpublic:\n",
        "\t\tListaEnlazada(){\n",
        "\t\t\tinicio = nullptr;\n",
        "\t\t}\n",
        "\t\tvoid agregar(TIPO e) { \n",
        "\t\t\tNodo<TIPO>* nd = new Nodo<TIPO>(e);\n",
        "\t\t\tif (inicio==nullptr)\n",
        "\t\t\t{\n",
        "\t\t\t\tinicio = nd;\n",
        "\t\t\t}\n",
        "\t\t\telse\n",
        "\t\t\t{\n",
        "\t\t\t\tNodo<TIPO>* aux = inicio;\n",
        "\t\t\t\twhile (aux->siguiente != nullptr){\n",
        "\t\t\t\t\taux = aux->siguiente;\n",
        "\t\t\t\t}\n",
        "\t\t\t\taux->siguiente = nd;\n",
        "\t\t\t}\n",
        "\t\t}\n",
        "\t\tvoid mostrar() {\n",
        "\t\t\tNodo<TIPO>* aux = inicio;\n",
        "\t\t\twhile (aux!=nullptr)\n",
        "\t\t\t{\n",
        "\t\t\t\tcout << aux->dato<<\"->\";\n",
        "\t\t\t\taux = aux->siguiente;\n",
        "\t\t\t}\n",
        "\t\t}\n",
        "\t};\n",
        "\n",
        "\n",
        "\tint main() {\n",
        "\t\tListaEnlazada<int> le;\n",
        "\t\tle.agregar(10);\n",
        "\t\tle.agregar(20);\n",
        "\t\tle.agregar(30);\n",
        "\t\tle.agregar(40);\n",
        "\t\tle.agregar(50);\n",
        "\t\tle.mostrar();\n",
        "\n",
        "\t\tcout<<endl;\n",
        "\n",
        "\t\tListaEnlazada<string> les;\n",
        "\t\tles.agregar(\"leonardo\");\n",
        "\t\tles.agregar(\"Gabriel\");\n",
        "\t\tles.agregar(\"Diego\");\n",
        "\t\tles.agregar(\"Jenny\");\n",
        "\t\tles.agregar(\"camila\");\n",
        "\t\tles.mostrar();\n",
        "\n",
        "\t\t\n",
        "\n",
        "\n",
        "\n",
        "\t\treturn 0;\n",
        "\t}"
      ]
    },
    {
      "cell_type": "code",
      "source": [
        "!g++ xd.cpp && ./a.out"
      ],
      "metadata": {
        "colab": {
          "base_uri": "https://localhost:8080/"
        },
        "id": "HGJ7LW_AHhkn",
        "outputId": "e5acc351-690f-4cf9-c3a7-33341bc15887"
      },
      "execution_count": 26,
      "outputs": [
        {
          "output_type": "stream",
          "name": "stdout",
          "text": [
            "10->20->30->40->50->\n",
            "leonardo->Gabriel->Diego->Jenny->camila->"
          ]
        }
      ]
    },
    {
      "cell_type": "code",
      "source": [
        " "
      ],
      "metadata": {
        "id": "PNqIbXZYHmnR"
      },
      "execution_count": null,
      "outputs": []
    }
  ]
}